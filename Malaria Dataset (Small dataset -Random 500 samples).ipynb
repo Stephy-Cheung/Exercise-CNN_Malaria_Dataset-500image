{
 "cells": [
  {
   "cell_type": "code",
   "execution_count": 45,
   "metadata": {},
   "outputs": [],
   "source": [
    "from pathlib import Path\n",
    "import numpy as np\n",
    "import matplotlib.pyplot as plt\n",
    "%matplotlib inline\n",
    "\n",
    "from keras.preprocessing import image \n",
    "from keras.applications import vgg16\n",
    "from keras.layers import Dense, Dropout, Flatten\n",
    "from keras import callbacks \n",
    "from keras.preprocessing.image import ImageDataGenerator\n",
    "\n",
    "import tensorflow as tf\n",
    "from tensorflow.keras import datasets, layers, models"
   ]
  },
  {
   "cell_type": "code",
   "execution_count": 46,
   "metadata": {},
   "outputs": [],
   "source": [
    "batch_size =  20\n",
    "IMG_ROW, IMG_COL = 64, 64"
   ]
  },
  {
   "cell_type": "code",
   "execution_count": 47,
   "metadata": {},
   "outputs": [],
   "source": [
    "import glob\n",
    "import random \n",
    "\n",
    "images = []\n",
    "labels = []\n",
    "\n",
    "images_p = random.sample(glob.glob('cell_images/Parasitized/*.png'), 250)\n",
    "\n",
    "for i in images_p:\n",
    "    img = image.load_img(i, target_size = (IMG_ROW, IMG_COL))\n",
    "    image_array = image.img_to_array(img)\n",
    "    images.append (image_array)\n",
    "    labels.append(1)\n",
    "    \n",
    "images_u = random.sample(glob.glob('cell_images/Uninfected/*.png'), 250)\n",
    "\n",
    "for i in images_u:\n",
    "    img = image.load_img(i, target_size = (IMG_ROW, IMG_COL))\n",
    "    image_array = image.img_to_array(img)\n",
    "    images.append (image_array)\n",
    "    labels.append(0)"
   ]
  },
  {
   "cell_type": "code",
   "execution_count": 22,
   "metadata": {},
   "outputs": [
    {
     "data": {
      "text/plain": [
       "500"
      ]
     },
     "execution_count": 22,
     "metadata": {},
     "output_type": "execute_result"
    }
   ],
   "source": [
    "len (images)"
   ]
  },
  {
   "cell_type": "code",
   "execution_count": 23,
   "metadata": {},
   "outputs": [
    {
     "data": {
      "text/plain": [
       "array([[[0., 0., 0.],\n",
       "        [0., 0., 0.],\n",
       "        [0., 0., 0.],\n",
       "        ...,\n",
       "        [0., 0., 0.],\n",
       "        [0., 0., 0.],\n",
       "        [0., 0., 0.]],\n",
       "\n",
       "       [[0., 0., 0.],\n",
       "        [0., 0., 0.],\n",
       "        [0., 0., 0.],\n",
       "        ...,\n",
       "        [0., 0., 0.],\n",
       "        [0., 0., 0.],\n",
       "        [0., 0., 0.]],\n",
       "\n",
       "       [[0., 0., 0.],\n",
       "        [0., 0., 0.],\n",
       "        [0., 0., 0.],\n",
       "        ...,\n",
       "        [0., 0., 0.],\n",
       "        [0., 0., 0.],\n",
       "        [0., 0., 0.]],\n",
       "\n",
       "       ...,\n",
       "\n",
       "       [[0., 0., 0.],\n",
       "        [0., 0., 0.],\n",
       "        [0., 0., 0.],\n",
       "        ...,\n",
       "        [0., 0., 0.],\n",
       "        [0., 0., 0.],\n",
       "        [0., 0., 0.]],\n",
       "\n",
       "       [[0., 0., 0.],\n",
       "        [0., 0., 0.],\n",
       "        [0., 0., 0.],\n",
       "        ...,\n",
       "        [0., 0., 0.],\n",
       "        [0., 0., 0.],\n",
       "        [0., 0., 0.]],\n",
       "\n",
       "       [[0., 0., 0.],\n",
       "        [0., 0., 0.],\n",
       "        [0., 0., 0.],\n",
       "        ...,\n",
       "        [0., 0., 0.],\n",
       "        [0., 0., 0.],\n",
       "        [0., 0., 0.]]], dtype=float32)"
      ]
     },
     "execution_count": 23,
     "metadata": {},
     "output_type": "execute_result"
    }
   ],
   "source": [
    "images[0]"
   ]
  },
  {
   "cell_type": "code",
   "execution_count": 24,
   "metadata": {},
   "outputs": [
    {
     "data": {
      "text/plain": [
       "1"
      ]
     },
     "execution_count": 24,
     "metadata": {},
     "output_type": "execute_result"
    }
   ],
   "source": [
    "labels[0]"
   ]
  },
  {
   "cell_type": "code",
   "execution_count": 25,
   "metadata": {},
   "outputs": [
    {
     "data": {
      "text/plain": [
       "<matplotlib.image.AxesImage at 0x24e180c2cd0>"
      ]
     },
     "execution_count": 25,
     "metadata": {},
     "output_type": "execute_result"
    },
    {
     "data": {
      "image/png": "[encoded data removed]",
      "text/plain": [
       "<Figure size 432x288 with 1 Axes>"
      ]
     },
     "metadata": {
      "needs_background": "light"
     },
     "output_type": "display_data"
    }
   ],
   "source": [
    "plt.imshow(images[0]/255.)"
   ]
  },
  {
   "cell_type": "code",
   "execution_count": 48,
   "metadata": {},
   "outputs": [],
   "source": [
    "# Shuffle and split train/test set \n",
    "from sklearn.utils import shuffle\n",
    "from sklearn.model_selection import train_test_split\n",
    "\n",
    "# Shuffles\n",
    "images, labels = shuffle(images, labels)\n",
    "\n",
    "# train-test-split\n",
    "X = np.array (images)\n",
    "y = np.array (labels)\n",
    "\n",
    "X_train, X_test, y_train, y_test = train_test_split (X,y, random_state = 42, test_size = 0.2)"
   ]
  },
  {
   "cell_type": "code",
   "execution_count": 49,
   "metadata": {},
   "outputs": [
    {
     "name": "stdout",
     "output_type": "stream",
     "text": [
      "(400, 64, 64, 3)\n",
      "(400,)\n",
      "(100, 64, 64, 3)\n",
      "(100,)\n"
     ]
    }
   ],
   "source": [
    "print (X_train.shape)\n",
    "print (y_train.shape)\n",
    "print (X_test.shape)\n",
    "print (y_test.shape)"
   ]
  },
  {
   "cell_type": "markdown",
   "metadata": {},
   "source": [
    "## Build  CNN models "
   ]
  },
  {
   "cell_type": "code",
   "execution_count": 50,
   "metadata": {},
   "outputs": [],
   "source": [
    "# Scale for X // no need to encode y as Binary categorical\n",
    "X_train = X_train / 255.0\n",
    "X_test = X_test / 255.0"
   ]
  },
  {
   "cell_type": "code",
   "execution_count": 29,
   "metadata": {},
   "outputs": [
    {
     "name": "stdout",
     "output_type": "stream",
     "text": [
      "Epoch 1/20\n",
      "20/20 [==============================] - 3s 128ms/step - loss: 0.6858 - accuracy: 0.5500 - val_loss: 0.6856 - val_accuracy: 0.6000\n",
      "Epoch 2/20\n",
      "20/20 [==============================] - 2s 110ms/step - loss: 0.7000 - accuracy: 0.5225 - val_loss: 0.6929 - val_accuracy: 0.4800\n",
      "Epoch 3/20\n",
      "20/20 [==============================] - 2s 105ms/step - loss: 0.6794 - accuracy: 0.5575 - val_loss: 0.6801 - val_accuracy: 0.5100\n",
      "Epoch 4/20\n",
      "20/20 [==============================] - 2s 99ms/step - loss: 0.6636 - accuracy: 0.6050 - val_loss: 0.7183 - val_accuracy: 0.5900\n",
      "Epoch 5/20\n",
      "20/20 [==============================] - 2s 103ms/step - loss: 0.6205 - accuracy: 0.6575 - val_loss: 0.6934 - val_accuracy: 0.5900\n",
      "Epoch 6/20\n",
      "20/20 [==============================] - 2s 104ms/step - loss: 0.6102 - accuracy: 0.6275 - val_loss: 0.6629 - val_accuracy: 0.6100\n",
      "Epoch 7/20\n",
      "20/20 [==============================] - 2s 105ms/step - loss: 0.5335 - accuracy: 0.7100 - val_loss: 0.7005 - val_accuracy: 0.5500\n",
      "Epoch 8/20\n",
      "20/20 [==============================] - 2s 106ms/step - loss: 0.5180 - accuracy: 0.7500 - val_loss: 0.8182 - val_accuracy: 0.4700\n",
      "Epoch 9/20\n",
      "20/20 [==============================] - 2s 106ms/step - loss: 0.5021 - accuracy: 0.7475 - val_loss: 0.7785 - val_accuracy: 0.6200\n",
      "Epoch 10/20\n",
      "20/20 [==============================] - 2s 108ms/step - loss: 0.3915 - accuracy: 0.8275 - val_loss: 0.8365 - val_accuracy: 0.5700\n",
      "Epoch 11/20\n",
      "20/20 [==============================] - 2s 107ms/step - loss: 0.2917 - accuracy: 0.8725 - val_loss: 1.1055 - val_accuracy: 0.6000\n",
      "Epoch 12/20\n",
      "20/20 [==============================] - 2s 108ms/step - loss: 0.2206 - accuracy: 0.9100 - val_loss: 0.9390 - val_accuracy: 0.6300\n",
      "Epoch 13/20\n",
      "20/20 [==============================] - 2s 111ms/step - loss: 0.1719 - accuracy: 0.9500 - val_loss: 0.9463 - val_accuracy: 0.5900\n",
      "Epoch 14/20\n",
      "20/20 [==============================] - 2s 113ms/step - loss: 0.1196 - accuracy: 0.9550 - val_loss: 1.0978 - val_accuracy: 0.6600\n",
      "Epoch 15/20\n",
      "20/20 [==============================] - 2s 108ms/step - loss: 0.1189 - accuracy: 0.9575 - val_loss: 1.0893 - val_accuracy: 0.6400\n",
      "Epoch 16/20\n",
      "20/20 [==============================] - 2s 113ms/step - loss: 0.0558 - accuracy: 0.9875 - val_loss: 1.3588 - val_accuracy: 0.6300\n",
      "Epoch 17/20\n",
      "20/20 [==============================] - 2s 105ms/step - loss: 0.0444 - accuracy: 0.9800 - val_loss: 1.5160 - val_accuracy: 0.6400\n",
      "Epoch 18/20\n",
      "20/20 [==============================] - 2s 108ms/step - loss: 0.0525 - accuracy: 0.9800 - val_loss: 1.2872 - val_accuracy: 0.6700\n",
      "Epoch 19/20\n",
      "20/20 [==============================] - 2s 107ms/step - loss: 0.0563 - accuracy: 0.9825 - val_loss: 1.4104 - val_accuracy: 0.6400\n",
      "Epoch 20/20\n",
      "20/20 [==============================] - 2s 109ms/step - loss: 0.0275 - accuracy: 0.9950 - val_loss: 1.5871 - val_accuracy: 0.6200\n"
     ]
    }
   ],
   "source": [
    "model_cnn = tf.keras.models.Sequential()\n",
    "\n",
    "# Convolution and MaxPooling\n",
    "model_cnn.add(layers.Conv2D(32, (3,3), activation = 'relu', input_shape = (64,64,3)))\n",
    "model_cnn.add(layers.Conv2D(32, (3,3), activation = 'relu'))\n",
    "model_cnn.add(layers.MaxPooling2D(2,2))\n",
    "model_cnn.add(layers.Conv2D(32, (3,3), activation = 'relu'))\n",
    "model_cnn.add(layers.MaxPooling2D(2,2))\n",
    "\n",
    "# Flatten\n",
    "model_cnn.add(layers.Dropout(0.2))\n",
    "model_cnn.add(layers.Flatten())\n",
    "\n",
    "# ANN part and compile\n",
    "model_cnn.add(layers.Dense(64,activation = 'relu'))\n",
    "model_cnn.add(layers.Dense(64,activation = 'relu'))\n",
    "model_cnn.add(layers.Dense(1,activation = 'sigmoid'))\n",
    "\n",
    "model_cnn.compile(optimizer = 'adam', loss= 'binary_crossentropy', metrics = ['accuracy'])\n",
    "\n",
    "hist = model_cnn.fit(X_train, y_train, batch_size=batch_size, epochs=20, validation_data = (X_test,y_test))"
   ]
  },
  {
   "cell_type": "code",
   "execution_count": 30,
   "metadata": {},
   "outputs": [
    {
     "name": "stdout",
     "output_type": "stream",
     "text": [
      "Model: \"sequential_2\"\n",
      "_________________________________________________________________\n",
      "Layer (type)                 Output Shape              Param #   \n",
      "=================================================================\n",
      "conv2d_6 (Conv2D)            (None, 62, 62, 32)        896       \n",
      "_________________________________________________________________\n",
      "conv2d_7 (Conv2D)            (None, 60, 60, 32)        9248      \n",
      "_________________________________________________________________\n",
      "max_pooling2d_4 (MaxPooling2 (None, 30, 30, 32)        0         \n",
      "_________________________________________________________________\n",
      "conv2d_8 (Conv2D)            (None, 28, 28, 32)        9248      \n",
      "_________________________________________________________________\n",
      "max_pooling2d_5 (MaxPooling2 (None, 14, 14, 32)        0         \n",
      "_________________________________________________________________\n",
      "dropout_2 (Dropout)          (None, 14, 14, 32)        0         \n",
      "_________________________________________________________________\n",
      "flatten_2 (Flatten)          (None, 6272)              0         \n",
      "_________________________________________________________________\n",
      "dense_6 (Dense)              (None, 64)                401472    \n",
      "_________________________________________________________________\n",
      "dense_7 (Dense)              (None, 64)                4160      \n",
      "_________________________________________________________________\n",
      "dense_8 (Dense)              (None, 1)                 65        \n",
      "=================================================================\n",
      "Total params: 425,089\n",
      "Trainable params: 425,089\n",
      "Non-trainable params: 0\n",
      "_________________________________________________________________\n"
     ]
    }
   ],
   "source": [
    "model_cnn.summary()"
   ]
  },
  {
   "cell_type": "code",
   "execution_count": 31,
   "metadata": {},
   "outputs": [
    {
     "data": {
      "image/png": "[encoded data removed]",
      "text/plain": [
       "<Figure size 720x720 with 1 Axes>"
      ]
     },
     "metadata": {
      "needs_background": "light"
     },
     "output_type": "display_data"
    }
   ],
   "source": [
    "epochs_list = list (range (1,len(hist.history['accuracy'])+1))\n",
    "plt.figure(figsize =(10,10))\n",
    "plt.plot(epochs_list, hist.history['accuracy'])\n",
    "plt.plot(epochs_list,hist.history['val_accuracy'])\n",
    "plt.legend (['Training accuracy', 'Accuracy'])\n",
    "plt.show()"
   ]
  },
  {
   "cell_type": "markdown",
   "metadata": {},
   "source": [
    "### Tuning using ImageDataGenerate"
   ]
  },
  {
   "cell_type": "code",
   "execution_count": 32,
   "metadata": {},
   "outputs": [
    {
     "name": "stdout",
     "output_type": "stream",
     "text": [
      "Epoch 1/100\n",
      "20/20 [==============================] - 2s 112ms/step - loss: 1.0216 - accuracy: 0.5700 - val_loss: 0.6368 - val_accuracy: 0.6900\n",
      "Epoch 2/100\n",
      "20/20 [==============================] - 2s 103ms/step - loss: 0.6462 - accuracy: 0.6450 - val_loss: 0.5635 - val_accuracy: 0.7400\n",
      "Epoch 3/100\n",
      "20/20 [==============================] - 2s 104ms/step - loss: 0.6098 - accuracy: 0.7700 - val_loss: 0.5594 - val_accuracy: 0.7100\n",
      "Epoch 4/100\n",
      "20/20 [==============================] - 2s 105ms/step - loss: 0.5991 - accuracy: 0.7375 - val_loss: 0.4417 - val_accuracy: 0.8600\n",
      "Epoch 5/100\n",
      "20/20 [==============================] - 2s 111ms/step - loss: 0.4783 - accuracy: 0.8025 - val_loss: 0.4961 - val_accuracy: 0.7700\n",
      "Epoch 6/100\n",
      "20/20 [==============================] - 2s 111ms/step - loss: 0.4657 - accuracy: 0.8325 - val_loss: 0.3305 - val_accuracy: 0.9200\n",
      "Epoch 7/100\n",
      "20/20 [==============================] - 2s 111ms/step - loss: 0.4111 - accuracy: 0.8650 - val_loss: 0.3704 - val_accuracy: 0.8600\n",
      "Epoch 8/100\n",
      "20/20 [==============================] - 2s 113ms/step - loss: 0.3352 - accuracy: 0.8825 - val_loss: 0.3338 - val_accuracy: 0.9100\n",
      "Epoch 9/100\n",
      "20/20 [==============================] - 2s 113ms/step - loss: 0.3227 - accuracy: 0.9025 - val_loss: 0.2857 - val_accuracy: 0.9300\n",
      "Epoch 10/100\n",
      "20/20 [==============================] - 2s 115ms/step - loss: 0.2835 - accuracy: 0.9050 - val_loss: 0.2854 - val_accuracy: 0.9500\n",
      "Epoch 11/100\n",
      "20/20 [==============================] - 2s 115ms/step - loss: 0.3974 - accuracy: 0.8325 - val_loss: 0.3504 - val_accuracy: 0.9200\n",
      "Epoch 12/100\n",
      "20/20 [==============================] - 2s 110ms/step - loss: 0.2904 - accuracy: 0.9025 - val_loss: 0.2922 - val_accuracy: 0.9300\n",
      "Epoch 13/100\n",
      "20/20 [==============================] - 2s 112ms/step - loss: 0.3090 - accuracy: 0.8800 - val_loss: 0.2708 - val_accuracy: 0.9400\n",
      "Epoch 14/100\n",
      "20/20 [==============================] - 2s 113ms/step - loss: 0.4505 - accuracy: 0.8675 - val_loss: 0.2713 - val_accuracy: 0.9300\n",
      "Epoch 15/100\n",
      "20/20 [==============================] - 2s 111ms/step - loss: 0.3044 - accuracy: 0.8875 - val_loss: 0.2911 - val_accuracy: 0.9200\n",
      "Epoch 16/100\n",
      "20/20 [==============================] - 2s 114ms/step - loss: 0.2402 - accuracy: 0.9175 - val_loss: 0.3102 - val_accuracy: 0.9200\n"
     ]
    }
   ],
   "source": [
    "gen = ImageDataGenerator (rotation_range=20, zoom_range=0.15, width_shift_range=0.2, height_shift_range=0.2, shear_range=0.15, horizontal_flip=True)\n",
    "\n",
    "early_stop = callbacks.EarlyStopping(monitor='val_loss', patience=3)\n",
    "\n",
    "model_cnn2 = model_cnn.fit_generator(gen.flow(X_train,y_train, batch_size=batch_size), validation_data=(X_test,y_test),steps_per_epoch=len(X_train) // 20, epochs=100,callbacks=[early_stop] )"
   ]
  },
  {
   "cell_type": "code",
   "execution_count": 33,
   "metadata": {},
   "outputs": [
    {
     "data": {
      "image/png": "[encoded data removed]",
      "text/plain": [
       "<Figure size 720x720 with 1 Axes>"
      ]
     },
     "metadata": {
      "needs_background": "light"
     },
     "output_type": "display_data"
    }
   ],
   "source": [
    "epochs_list = list (range (1,len(model_cnn2.history['accuracy'])+1))\n",
    "plt.figure(figsize =(10,10))\n",
    "plt.plot(epochs_list, model_cnn2.history['accuracy'])\n",
    "plt.plot(epochs_list,model_cnn2.history['val_accuracy'])\n",
    "plt.legend (['Training accuracy', 'Accuracy'])\n",
    "plt.show()"
   ]
  },
  {
   "cell_type": "markdown",
   "metadata": {},
   "source": [
    "## Transfer learning "
   ]
  },
  {
   "cell_type": "code",
   "execution_count": 51,
   "metadata": {},
   "outputs": [],
   "source": [
    "from keras.applications import vgg16\n",
    "base_model = vgg16.VGG16(weights = 'imagenet', include_top = False, input_shape= (64,64,3))"
   ]
  },
  {
   "cell_type": "code",
   "execution_count": 52,
   "metadata": {},
   "outputs": [
    {
     "name": "stdout",
     "output_type": "stream",
     "text": [
      "Model: \"functional_3\"\n",
      "_________________________________________________________________\n",
      "Layer (type)                 Output Shape              Param #   \n",
      "=================================================================\n",
      "input_2 (InputLayer)         [(None, 64, 64, 3)]       0         \n",
      "_________________________________________________________________\n",
      "block1_conv1 (Conv2D)        (None, 64, 64, 64)        1792      \n",
      "_________________________________________________________________\n",
      "block1_conv2 (Conv2D)        (None, 64, 64, 64)        36928     \n",
      "_________________________________________________________________\n",
      "block1_pool (MaxPooling2D)   (None, 32, 32, 64)        0         \n",
      "_________________________________________________________________\n",
      "block2_conv1 (Conv2D)        (None, 32, 32, 128)       73856     \n",
      "_________________________________________________________________\n",
      "block2_conv2 (Conv2D)        (None, 32, 32, 128)       147584    \n",
      "_________________________________________________________________\n",
      "block2_pool (MaxPooling2D)   (None, 16, 16, 128)       0         \n",
      "_________________________________________________________________\n",
      "block3_conv1 (Conv2D)        (None, 16, 16, 256)       295168    \n",
      "_________________________________________________________________\n",
      "block3_conv2 (Conv2D)        (None, 16, 16, 256)       590080    \n",
      "_________________________________________________________________\n",
      "block3_conv3 (Conv2D)        (None, 16, 16, 256)       590080    \n",
      "_________________________________________________________________\n",
      "block3_pool (MaxPooling2D)   (None, 8, 8, 256)         0         \n",
      "_________________________________________________________________\n",
      "block4_conv1 (Conv2D)        (None, 8, 8, 512)         1180160   \n",
      "_________________________________________________________________\n",
      "block4_conv2 (Conv2D)        (None, 8, 8, 512)         2359808   \n",
      "_________________________________________________________________\n",
      "block4_conv3 (Conv2D)        (None, 8, 8, 512)         2359808   \n",
      "_________________________________________________________________\n",
      "block4_pool (MaxPooling2D)   (None, 4, 4, 512)         0         \n",
      "_________________________________________________________________\n",
      "block5_conv1 (Conv2D)        (None, 4, 4, 512)         2359808   \n",
      "_________________________________________________________________\n",
      "block5_conv2 (Conv2D)        (None, 4, 4, 512)         2359808   \n",
      "_________________________________________________________________\n",
      "block5_conv3 (Conv2D)        (None, 4, 4, 512)         2359808   \n",
      "_________________________________________________________________\n",
      "block5_pool (MaxPooling2D)   (None, 2, 2, 512)         0         \n",
      "_________________________________________________________________\n",
      "flatten_4 (Flatten)          (None, 2048)              0         \n",
      "_________________________________________________________________\n",
      "dense_12 (Dense)             (None, 64)                131136    \n",
      "_________________________________________________________________\n",
      "dense_13 (Dense)             (None, 64)                4160      \n",
      "_________________________________________________________________\n",
      "dropout_4 (Dropout)          (None, 64)                0         \n",
      "_________________________________________________________________\n",
      "dense_14 (Dense)             (None, 1)                 65        \n",
      "=================================================================\n",
      "Total params: 14,850,049\n",
      "Trainable params: 14,850,049\n",
      "Non-trainable params: 0\n",
      "_________________________________________________________________\n",
      "None\n"
     ]
    }
   ],
   "source": [
    "# Input new classification prediction \n",
    "from keras.models import Model\n",
    "x= base_model.output\n",
    "x= Flatten()(x)\n",
    "x= Dense (64, activation = 'relu')(x)\n",
    "x= Dense (64, activation = 'relu')(x)\n",
    "x= Dropout(0.2)(x)\n",
    "predictions = Dense (1, activation = 'sigmoid')(x)\n",
    "\n",
    "trans_model = Model (inputs=base_model.input, outputs=predictions)\n",
    "\n",
    "print (trans_model.summary())"
   ]
  },
  {
   "cell_type": "code",
   "execution_count": 53,
   "metadata": {},
   "outputs": [
    {
     "name": "stdout",
     "output_type": "stream",
     "text": [
      "Performing Transfer Learning\n",
      "<tensorflow.python.keras.engine.input_layer.InputLayer object at 0x0000024E12D3DD30>\n",
      "<tensorflow.python.keras.layers.convolutional.Conv2D object at 0x0000024E14183490>\n",
      "<tensorflow.python.keras.layers.convolutional.Conv2D object at 0x0000024E141839A0>\n",
      "<tensorflow.python.keras.layers.pooling.MaxPooling2D object at 0x0000024E14183910>\n",
      "<tensorflow.python.keras.layers.convolutional.Conv2D object at 0x0000024E17EA20D0>\n",
      "<tensorflow.python.keras.layers.convolutional.Conv2D object at 0x0000024E17EA8460>\n",
      "<tensorflow.python.keras.layers.pooling.MaxPooling2D object at 0x0000024E14183D60>\n",
      "<tensorflow.python.keras.layers.convolutional.Conv2D object at 0x0000024E17E335B0>\n",
      "<tensorflow.python.keras.layers.convolutional.Conv2D object at 0x0000024E17E339D0>\n",
      "<tensorflow.python.keras.layers.convolutional.Conv2D object at 0x0000024E17EDE790>\n",
      "<tensorflow.python.keras.layers.pooling.MaxPooling2D object at 0x0000024E17EB40D0>\n",
      "<tensorflow.python.keras.layers.convolutional.Conv2D object at 0x0000024E0DEE1E50>\n",
      "<tensorflow.python.keras.layers.convolutional.Conv2D object at 0x0000024E18072AF0>\n",
      "<tensorflow.python.keras.layers.convolutional.Conv2D object at 0x0000024E18097820>\n",
      "<tensorflow.python.keras.layers.pooling.MaxPooling2D object at 0x0000024E17EB4B80>\n",
      "<tensorflow.python.keras.layers.convolutional.Conv2D object at 0x0000024E180ED1C0>\n",
      "<tensorflow.python.keras.layers.convolutional.Conv2D object at 0x0000024E180B59A0>\n",
      "<tensorflow.python.keras.layers.convolutional.Conv2D object at 0x0000024E180E4AC0>\n",
      "<tensorflow.python.keras.layers.pooling.MaxPooling2D object at 0x0000024E1421AE80>\n"
     ]
    }
   ],
   "source": [
    "print ('Performing Transfer Learning')\n",
    "\n",
    "for layer in base_model.layers: \n",
    "    print(layer)\n",
    "    layer.trainable = False\n",
    "    \n",
    "trans_model.compile(optimizer='adam', loss='binary_crossentropy', metrics=['accuracy'])"
   ]
  },
  {
   "cell_type": "code",
   "execution_count": 54,
   "metadata": {},
   "outputs": [
    {
     "name": "stdout",
     "output_type": "stream",
     "text": [
      "Model: \"functional_3\"\n",
      "_________________________________________________________________\n",
      "Layer (type)                 Output Shape              Param #   \n",
      "=================================================================\n",
      "input_2 (InputLayer)         [(None, 64, 64, 3)]       0         \n",
      "_________________________________________________________________\n",
      "block1_conv1 (Conv2D)        (None, 64, 64, 64)        1792      \n",
      "_________________________________________________________________\n",
      "block1_conv2 (Conv2D)        (None, 64, 64, 64)        36928     \n",
      "_________________________________________________________________\n",
      "block1_pool (MaxPooling2D)   (None, 32, 32, 64)        0         \n",
      "_________________________________________________________________\n",
      "block2_conv1 (Conv2D)        (None, 32, 32, 128)       73856     \n",
      "_________________________________________________________________\n",
      "block2_conv2 (Conv2D)        (None, 32, 32, 128)       147584    \n",
      "_________________________________________________________________\n",
      "block2_pool (MaxPooling2D)   (None, 16, 16, 128)       0         \n",
      "_________________________________________________________________\n",
      "block3_conv1 (Conv2D)        (None, 16, 16, 256)       295168    \n",
      "_________________________________________________________________\n",
      "block3_conv2 (Conv2D)        (None, 16, 16, 256)       590080    \n",
      "_________________________________________________________________\n",
      "block3_conv3 (Conv2D)        (None, 16, 16, 256)       590080    \n",
      "_________________________________________________________________\n",
      "block3_pool (MaxPooling2D)   (None, 8, 8, 256)         0         \n",
      "_________________________________________________________________\n",
      "block4_conv1 (Conv2D)        (None, 8, 8, 512)         1180160   \n",
      "_________________________________________________________________\n",
      "block4_conv2 (Conv2D)        (None, 8, 8, 512)         2359808   \n",
      "_________________________________________________________________\n",
      "block4_conv3 (Conv2D)        (None, 8, 8, 512)         2359808   \n",
      "_________________________________________________________________\n",
      "block4_pool (MaxPooling2D)   (None, 4, 4, 512)         0         \n",
      "_________________________________________________________________\n",
      "block5_conv1 (Conv2D)        (None, 4, 4, 512)         2359808   \n",
      "_________________________________________________________________\n",
      "block5_conv2 (Conv2D)        (None, 4, 4, 512)         2359808   \n",
      "_________________________________________________________________\n",
      "block5_conv3 (Conv2D)        (None, 4, 4, 512)         2359808   \n",
      "_________________________________________________________________\n",
      "block5_pool (MaxPooling2D)   (None, 2, 2, 512)         0         \n",
      "_________________________________________________________________\n",
      "flatten_4 (Flatten)          (None, 2048)              0         \n",
      "_________________________________________________________________\n",
      "dense_12 (Dense)             (None, 64)                131136    \n",
      "_________________________________________________________________\n",
      "dense_13 (Dense)             (None, 64)                4160      \n",
      "_________________________________________________________________\n",
      "dropout_4 (Dropout)          (None, 64)                0         \n",
      "_________________________________________________________________\n",
      "dense_14 (Dense)             (None, 1)                 65        \n",
      "=================================================================\n",
      "Total params: 14,850,049\n",
      "Trainable params: 135,361\n",
      "Non-trainable params: 14,714,688\n",
      "_________________________________________________________________\n"
     ]
    }
   ],
   "source": [
    "trans_model.summary()"
   ]
  },
  {
   "cell_type": "code",
   "execution_count": 55,
   "metadata": {},
   "outputs": [
    {
     "name": "stdout",
     "output_type": "stream",
     "text": [
      "Epoch 1/100\n",
      "20/20 [==============================] - 7s 338ms/step - loss: 0.6091 - accuracy: 0.6675 - val_loss: 0.4120 - val_accuracy: 0.8600\n",
      "Epoch 2/100\n",
      "20/20 [==============================] - 7s 335ms/step - loss: 0.4413 - accuracy: 0.7900 - val_loss: 0.2825 - val_accuracy: 0.8900\n",
      "Epoch 3/100\n",
      "20/20 [==============================] - 7s 368ms/step - loss: 0.3161 - accuracy: 0.8725 - val_loss: 0.2466 - val_accuracy: 0.9100\n",
      "Epoch 4/100\n",
      "20/20 [==============================] - 8s 395ms/step - loss: 0.2323 - accuracy: 0.9025 - val_loss: 0.1767 - val_accuracy: 0.9200\n",
      "Epoch 5/100\n",
      "20/20 [==============================] - 8s 396ms/step - loss: 0.1874 - accuracy: 0.9300 - val_loss: 0.1535 - val_accuracy: 0.9500\n",
      "Epoch 6/100\n",
      "20/20 [==============================] - 8s 400ms/step - loss: 0.1742 - accuracy: 0.9425 - val_loss: 0.1404 - val_accuracy: 0.9400\n",
      "Epoch 7/100\n",
      "20/20 [==============================] - 8s 417ms/step - loss: 0.1271 - accuracy: 0.9575 - val_loss: 0.1946 - val_accuracy: 0.9400\n",
      "Epoch 8/100\n",
      "20/20 [==============================] - 9s 450ms/step - loss: 0.1202 - accuracy: 0.9625 - val_loss: 0.1308 - val_accuracy: 0.9600\n",
      "Epoch 9/100\n",
      "20/20 [==============================] - 8s 420ms/step - loss: 0.1021 - accuracy: 0.9675 - val_loss: 0.1617 - val_accuracy: 0.9600\n",
      "Epoch 10/100\n",
      "20/20 [==============================] - 10s 498ms/step - loss: 0.0805 - accuracy: 0.9825 - val_loss: 0.1382 - val_accuracy: 0.9400\n",
      "Epoch 11/100\n",
      "20/20 [==============================] - 10s 483ms/step - loss: 0.0493 - accuracy: 0.9950 - val_loss: 0.1203 - val_accuracy: 0.9200\n",
      "Epoch 12/100\n",
      "20/20 [==============================] - 8s 422ms/step - loss: 0.0498 - accuracy: 0.9850 - val_loss: 0.1183 - val_accuracy: 0.9300\n",
      "Epoch 13/100\n",
      "20/20 [==============================] - 9s 454ms/step - loss: 0.0540 - accuracy: 0.9875 - val_loss: 0.1974 - val_accuracy: 0.9300\n",
      "Epoch 14/100\n",
      "20/20 [==============================] - 8s 418ms/step - loss: 0.0993 - accuracy: 0.9700 - val_loss: 0.1545 - val_accuracy: 0.9500\n",
      "Epoch 15/100\n",
      "20/20 [==============================] - 8s 409ms/step - loss: 0.0322 - accuracy: 0.9950 - val_loss: 0.1226 - val_accuracy: 0.9300\n"
     ]
    }
   ],
   "source": [
    "early_stop = callbacks.EarlyStopping(monitor= 'val_loss', patience = 3)\n",
    "\n",
    "hist_trans1 = trans_model.fit(X_train, y_train, epochs=100,batch_size=batch_size, validation_data = (X_test, y_test), callbacks=[early_stop])"
   ]
  },
  {
   "cell_type": "code",
   "execution_count": 60,
   "metadata": {},
   "outputs": [
    {
     "data": {
      "image/png": "[encoded data removed]",
      "text/plain": [
       "<Figure size 720x720 with 1 Axes>"
      ]
     },
     "metadata": {
      "needs_background": "light"
     },
     "output_type": "display_data"
    }
   ],
   "source": [
    "epoch_list = list (range (1, len(hist_trans1.history['accuracy'])+1))\n",
    "plt.figure(figsize =(10,10))\n",
    "plt.plot(epoch_list, hist_trans1.history['accuracy'])\n",
    "plt.plot(epoch_list, hist_trans1.history['val_accuracy'])\n",
    "plt.legend(['Training accuracy', 'Accuracy'])\n",
    "plt.show()"
   ]
  },
  {
   "cell_type": "markdown",
   "metadata": {},
   "source": [
    "#### Both Image Data Generator and Transfer learning help develop a more accurate model for prediction. "
   ]
  }
 ],
 "metadata": {
  "kernelspec": {
   "display_name": "Python 3",
   "language": "python",
   "name": "python3"
  },
  "language_info": {
   "codemirror_mode": {
    "name": "ipython",
    "version": 3
   },
   "file_extension": ".py",
   "mimetype": "text/x-python",
   "name": "python",
   "nbconvert_exporter": "python",
   "pygments_lexer": "ipython3",
   "version": "3.8.5"
  }
 },
 "nbformat": 4,
 "nbformat_minor": 4
}
